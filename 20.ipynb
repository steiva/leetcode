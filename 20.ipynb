{
 "cells": [
  {
   "cell_type": "code",
   "execution_count": 96,
   "metadata": {},
   "outputs": [],
   "source": [
    "class Solution:\n",
    "    def isValid(self, s: str) -> bool:\n",
    "        if len(s)%2!=0:\n",
    "            return False\n",
    "        elif len(s)==0:\n",
    "            return True\n",
    "        temp=self.simplify(s)\n",
    "        print(temp)\n",
    "        while temp!=s:\n",
    "            s=self.simplify(temp)\n",
    "            temp=self.simplify(s)\n",
    "        if len(s)==0:\n",
    "            return True\n",
    "        else:\n",
    "            return False\n",
    "    def simplify(self,s:str)->str:\n",
    "        temp=list(s)\n",
    "        i=0\n",
    "        while i<len(temp)-1:\n",
    "            if (temp[i]=='(' and temp[i+1]==')') or (temp[i]=='[' and temp[i+1]==']') or (temp[i]=='{' and temp[i+1]=='}'):\n",
    "                del temp[i]\n",
    "                del temp[i]\n",
    "            i+=1\n",
    "        return ''.join(temp)"
   ]
  },
  {
   "cell_type": "code",
   "execution_count": 97,
   "metadata": {},
   "outputs": [
    {
     "name": "stdout",
     "output_type": "stream",
     "text": [
      "['[', '(', ']', ']', ')']\n",
      "['[', '(', ']', ')']\n",
      "[(])\n"
     ]
    },
    {
     "data": {
      "text/plain": [
       "False"
      ]
     },
     "execution_count": 97,
     "metadata": {},
     "output_type": "execute_result"
    }
   ],
   "source": [
    "a=Solution()\n",
    "c=\"[([]])\"\n",
    "b=a.isValid(c)\n",
    "b"
   ]
  }
 ],
 "metadata": {
  "kernelspec": {
   "display_name": "Python 3",
   "language": "python",
   "name": "python3"
  },
  "language_info": {
   "codemirror_mode": {
    "name": "ipython",
    "version": 3
   },
   "file_extension": ".py",
   "mimetype": "text/x-python",
   "name": "python",
   "nbconvert_exporter": "python",
   "pygments_lexer": "ipython3",
   "version": "3.6.2"
  },
  "toc": {
   "base_numbering": 1,
   "nav_menu": {},
   "number_sections": true,
   "sideBar": true,
   "skip_h1_title": false,
   "title_cell": "Table of Contents",
   "title_sidebar": "Contents",
   "toc_cell": false,
   "toc_position": {},
   "toc_section_display": true,
   "toc_window_display": false
  }
 },
 "nbformat": 4,
 "nbformat_minor": 2
}
