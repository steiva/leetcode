{
 "cells": [
  {
   "cell_type": "code",
   "execution_count": 48,
   "metadata": {},
   "outputs": [
    {
     "name": "stdout",
     "output_type": "stream",
     "text": [
      "False\n"
     ]
    }
   ],
   "source": [
    "from typing import List\n",
    "class Solution:\n",
    "    def isMatch(self, s: str, p: str) -> bool:\n",
    "        if p == s or p == '*':\n",
    "            return True\n",
    "        if p == '' or s == '':\n",
    "            return False\n",
    "        len_s=len(s)\n",
    "        len_p=len(p)\n",
    "\n",
    "        dp=[[False]*(len_s+1)]*(len_p+1)\n",
    "        dp[0][0]=True\n",
    "        for i in range(1,len_p):\n",
    "            if p[i]=='*':dp[0][i]==dp[0][i-1]\n",
    "        for i in range(1,len_p):\n",
    "            for j in range(1,len_s):\n",
    "                if p[i]!='*':\n",
    "                    dp[i][j]=dp[i-1][j-1] and (s[j]==p[i] or p[i]=='?')\n",
    "                else:\n",
    "                    dp[i][j]=dp[i-1][j] or dp[i][j-1]\n",
    "        print(dp[len_p-1][len_s-1])\n",
    "        return dp[len_p-1][len_s-1]\n",
    "        \n",
    "    \n",
    "if __name__=='__main__':\n",
    "    solution=Solution()\n",
    "    s = \"adceb\"\n",
    "    p = \"*a*b\"\n",
    "    solution.isMatch(s,p)\n",
    "            \n",
    "                "
   ]
  },
  {
   "cell_type": "code",
   "execution_count": 45,
   "metadata": {},
   "outputs": [
    {
     "name": "stdout",
     "output_type": "stream",
     "text": [
      "[[False, False, False, False, False, False], [False, False, False, False, False, False], [False, False, False, False, False, False], [False, False, False, False, False, False], [False, False, False, False, False, False]]\n"
     ]
    },
    {
     "data": {
      "text/plain": [
       "False"
      ]
     },
     "execution_count": 45,
     "metadata": {},
     "output_type": "execute_result"
    }
   ],
   "source": [
    "dp=[[False]*(5+1)]*(4+1)\n",
    "d = [ [False] * (5 + 1) for _ in range(4+ 1)]\n",
    "print(dp)\n",
    "d[4][5]"
   ]
  }
 ],
 "metadata": {
  "kernelspec": {
   "display_name": "Python 3",
   "language": "python",
   "name": "python3"
  },
  "language_info": {
   "codemirror_mode": {
    "name": "ipython",
    "version": 3
   },
   "file_extension": ".py",
   "mimetype": "text/x-python",
   "name": "python",
   "nbconvert_exporter": "python",
   "pygments_lexer": "ipython3",
   "version": "3.6.2"
  },
  "toc": {
   "base_numbering": 1,
   "nav_menu": {},
   "number_sections": true,
   "sideBar": true,
   "skip_h1_title": false,
   "title_cell": "Table of Contents",
   "title_sidebar": "Contents",
   "toc_cell": false,
   "toc_position": {},
   "toc_section_display": true,
   "toc_window_display": false
  },
  "varInspector": {
   "cols": {
    "lenName": 16,
    "lenType": 16,
    "lenVar": 40
   },
   "kernels_config": {
    "python": {
     "delete_cmd_postfix": "",
     "delete_cmd_prefix": "del ",
     "library": "var_list.py",
     "varRefreshCmd": "print(var_dic_list())"
    },
    "r": {
     "delete_cmd_postfix": ") ",
     "delete_cmd_prefix": "rm(",
     "library": "var_list.r",
     "varRefreshCmd": "cat(var_dic_list()) "
    }
   },
   "position": {
    "height": "284px",
    "left": "1001px",
    "right": "20px",
    "top": "147px",
    "width": "350px"
   },
   "types_to_exclude": [
    "module",
    "function",
    "builtin_function_or_method",
    "instance",
    "_Feature"
   ],
   "window_display": true
  }
 },
 "nbformat": 4,
 "nbformat_minor": 2
}
