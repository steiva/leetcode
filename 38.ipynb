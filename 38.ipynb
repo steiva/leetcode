{
 "cells": [
  {
   "cell_type": "code",
   "execution_count": 3,
   "metadata": {},
   "outputs": [],
   "source": [
    "class Solution:\n",
    "    def countAndSay(self, n: int) -> str:\n",
    "        if n <= 1:\n",
    "            return '1'\n",
    "        pre=self.countAndSay(n-1)\n",
    "        \n",
    "        res=''\n",
    "        count=1\n",
    "        for idx in range(len(pre)):\n",
    "            if idx==0:\n",
    "                count=1\n",
    "            elif pre[idx]!=pre[idx-1]:\n",
    "                tmp=str(count)+pre[idx-1]\n",
    "                res+=tmp\n",
    "            elif pre[idx]==pre[idx-1]:\n",
    "                count+=1\n",
    "            if idx==len(pre)-1:\n",
    "                tmp=str(count)+pre[idx]\n",
    "                res+=tmp\n",
    "        return res"
   ]
  },
  {
   "cell_type": "code",
   "execution_count": null,
   "metadata": {
    "collapsed": true
   },
   "outputs": [],
   "source": []
  }
 ],
 "metadata": {
  "kernelspec": {
   "display_name": "Python 3",
   "language": "python",
   "name": "python3"
  },
  "language_info": {
   "codemirror_mode": {
    "name": "ipython",
    "version": 3
   },
   "file_extension": ".py",
   "mimetype": "text/x-python",
   "name": "python",
   "nbconvert_exporter": "python",
   "pygments_lexer": "ipython3",
   "version": "3.6.2"
  },
  "toc": {
   "base_numbering": 1,
   "nav_menu": {},
   "number_sections": true,
   "sideBar": true,
   "skip_h1_title": false,
   "title_cell": "Table of Contents",
   "title_sidebar": "Contents",
   "toc_cell": false,
   "toc_position": {},
   "toc_section_display": true,
   "toc_window_display": false
  }
 },
 "nbformat": 4,
 "nbformat_minor": 2
}
