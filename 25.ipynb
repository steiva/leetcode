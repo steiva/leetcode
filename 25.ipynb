{
 "cells": [
  {
   "cell_type": "code",
   "execution_count": null,
   "metadata": {
    "collapsed": true
   },
   "outputs": [],
   "source": [
    "class Solution:\n",
    "    def reverseKGroup(self, head: ListNode, k: int) -> ListNode:\n",
    "        cur = head\n",
    "        count = 0\n",
    "        while cur and count!= k:\n",
    "            cur = cur.next\n",
    "            count += 1\n",
    "        if count == k:\n",
    "            cur = self.reverseKGroup(cur, k)\n",
    "            while count:\n",
    "                tmp = head.next\n",
    "                head.next = cur\n",
    "                cur = head\n",
    "                head = tmp\n",
    "                count -= 1\n",
    "            head = cur   \n",
    "        return head\n"
   ]
  },
  {
   "cell_type": "code",
   "execution_count": null,
   "metadata": {
    "collapsed": true
   },
   "outputs": [],
   "source": [
    "class Solution:\n",
    "    def reverseKGroup(self, head: ListNode, k: int) -> ListNode:\n",
    "        dummy = ListNode(0)\n",
    "        dummy.next = head\n",
    "        pre = dummy\n",
    "        tail = dummy\n",
    "        while True:\n",
    "            count = k\n",
    "            while count and tail:\n",
    "                count -= 1\n",
    "                tail = tail.next\n",
    "            if not tail: break\n",
    "            head = pre.next\n",
    "            while pre.next != tail:\n",
    "                # 获取下一个元素\n",
    "                cur = pre.next \n",
    "                pre.next = cur.next \n",
    "                cur.next = tail.next # 和剩余的链表连接起来\n",
    "                tail.next = cur #插在tail后面\n",
    "            # 改变 pre tail 的值\n",
    "            pre = head \n",
    "            tail = head\n",
    "        return dummy.next\n"
   ]
  }
 ],
 "metadata": {
  "kernelspec": {
   "display_name": "Python 3",
   "language": "python",
   "name": "python3"
  },
  "language_info": {
   "codemirror_mode": {
    "name": "ipython",
    "version": 3
   },
   "file_extension": ".py",
   "mimetype": "text/x-python",
   "name": "python",
   "nbconvert_exporter": "python",
   "pygments_lexer": "ipython3",
   "version": "3.6.2"
  },
  "toc": {
   "base_numbering": 1,
   "nav_menu": {},
   "number_sections": true,
   "sideBar": true,
   "skip_h1_title": false,
   "title_cell": "Table of Contents",
   "title_sidebar": "Contents",
   "toc_cell": false,
   "toc_position": {},
   "toc_section_display": true,
   "toc_window_display": false
  }
 },
 "nbformat": 4,
 "nbformat_minor": 2
}
