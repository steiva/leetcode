{
 "cells": [
  {
   "cell_type": "code",
   "execution_count": 1,
   "metadata": {
    "collapsed": true
   },
   "outputs": [],
   "source": [
    "class Solution:\n",
    "    def search(self, nums, target):\n",
    "        \"\"\"\n",
    "        :type nums: List[int]\n",
    "        :type target: int\n",
    "        :rtype: int\n",
    "        \"\"\"\n",
    "        def find_rotate_index(left, right):\n",
    "            if nums[left] < nums[right]:\n",
    "                return 0\n",
    "            \n",
    "            while left <= right:\n",
    "                pivot = (left + right) // 2\n",
    "                if nums[pivot] > nums[pivot + 1]:\n",
    "                    return pivot + 1\n",
    "                else:\n",
    "                    if nums[pivot] < nums[left]:\n",
    "                        right = pivot - 1\n",
    "                    else:\n",
    "                        left = pivot + 1\n",
    "                \n",
    "        def search(left, right):\n",
    "            \"\"\"\n",
    "            Binary search\n",
    "            \"\"\"\n",
    "            while left <= right:\n",
    "                pivot = (left + right) // 2\n",
    "                if nums[pivot] == target:\n",
    "                    return pivot\n",
    "                else:\n",
    "                    if target < nums[pivot]:\n",
    "                        right = pivot - 1\n",
    "                    else:\n",
    "                        left = pivot + 1\n",
    "            return -1\n",
    "        \n",
    "        n = len(nums)\n",
    "        \n",
    "        if n == 0:\n",
    "            return -1\n",
    "        if n == 1:\n",
    "            return 0 if nums[0] == target else -1 \n",
    "        \n",
    "        rotate_index = find_rotate_index(0, n - 1)\n",
    "        \n",
    "        # if target is the smallest element\n",
    "        if nums[rotate_index] == target:\n",
    "            return rotate_index\n",
    "        # if array is not rotated, search in the entire array\n",
    "        if rotate_index == 0:\n",
    "            return search(0, n - 1)\n",
    "        if target < nums[0]:\n",
    "            # search on the right side\n",
    "            return search(rotate_index, n - 1)\n",
    "        # search on the left side\n",
    "        return search(0, rotate_index)"
   ]
  }
 ],
 "metadata": {
  "kernelspec": {
   "display_name": "Python 3",
   "language": "python",
   "name": "python3"
  },
  "language_info": {
   "codemirror_mode": {
    "name": "ipython",
    "version": 3
   },
   "file_extension": ".py",
   "mimetype": "text/x-python",
   "name": "python",
   "nbconvert_exporter": "python",
   "pygments_lexer": "ipython3",
   "version": "3.6.2"
  },
  "toc": {
   "base_numbering": 1,
   "nav_menu": {},
   "number_sections": true,
   "sideBar": true,
   "skip_h1_title": false,
   "title_cell": "Table of Contents",
   "title_sidebar": "Contents",
   "toc_cell": false,
   "toc_position": {},
   "toc_section_display": true,
   "toc_window_display": false
  }
 },
 "nbformat": 4,
 "nbformat_minor": 2
}
