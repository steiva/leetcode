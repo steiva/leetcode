{
 "cells": [
  {
   "cell_type": "code",
   "execution_count": 1,
   "metadata": {
    "collapsed": true
   },
   "outputs": [],
   "source": [
    "# class Solution:\n",
    "#     def longestValidParentheses(self, s: str) -> int:\n",
    "#         pare=list(s)\n",
    "#         count=0\n",
    "#         k=0\n",
    "#         temp=[]\n",
    "#         for i in range(0,len(pare)-1):\n",
    "#             if pare[i]=='(' and pare[i+1]==')':\n",
    "#                 temp.append(i)\n",
    "#         print(temp)\n",
    "#         if temp:\n",
    "#             k=1\n",
    "#             count=k\n",
    "#         for i in range(0,len(temp)-1):\n",
    "#             if temp[i+1]-temp[i]==2:\n",
    "#                 k+=1\n",
    "#                 maxlen=k\n",
    "#                 print(maxlen)\n",
    "#                 if maxlen>=count:count=maxlen\n",
    "#             else:\n",
    "#                 k=1\n",
    "            \n",
    "#         return count*2"
   ]
  },
  {
   "cell_type": "code",
   "execution_count": 56,
   "metadata": {},
   "outputs": [],
   "source": [
    "class Solution:\n",
    "    def longestValidParentheses(self, s: str) -> int:\n",
    "        #dynamic programing\n",
    "        maxans=0\n",
    "        dp=[0]*len(s)\n",
    "        temp=list(s)\n",
    "        n=len(s)\n",
    "        for i in range(1,n):\n",
    "            if temp[i]==')':\n",
    "                if temp[i-1]=='(':\n",
    "                    dp[i]=dp[i-2]+2 if i>=2 else 2\n",
    "                elif (i-dp[i-1]-1)>=0 and temp[i-dp[i-1]-1]=='(':\n",
    "                    dp[i]=dp[i-1]+dp[i-dp[i-1]-2]+2 if dp[i-1]+(i-dp[i-1])>=2 else 2\n",
    "                maxans=max(maxans,dp[i])\n",
    "        return maxans"
   ]
  },
  {
   "cell_type": "code",
   "execution_count": 57,
   "metadata": {},
   "outputs": [
    {
     "data": {
      "text/plain": [
       "6"
      ]
     },
     "execution_count": 57,
     "metadata": {},
     "output_type": "execute_result"
    }
   ],
   "source": [
    "s=\"()(())\"\n",
    "a=Solution()\n",
    "a.longestValidParentheses(s)"
   ]
  },
  {
   "cell_type": "code",
   "execution_count": null,
   "metadata": {
    "collapsed": true
   },
   "outputs": [],
   "source": [
    "class Solution:\n",
    "    def longestValidParentheses(self, s: str) -> int:\n",
    "        n = len(s)\n",
    "        if n == 0: return 0\n",
    "        dp = [0] * n\n",
    "        res = 0\n",
    "        for i in range(n):\n",
    "            if i>0 and s[i] == \")\":\n",
    "                if  s[i - 1] == \"(\":\n",
    "                    dp[i] = dp[i - 2] + 2\n",
    "                elif s[i - 1] == \")\" and i - dp[i - 1] - 1 >= 0 and s[i - dp[i - 1] - 1] == \"(\":\n",
    "                    dp[i] = dp[i - 1] + 2 + dp[i - dp[i - 1] - 2]\n",
    "                if dp[i] > res:\n",
    "                    res = dp[i]\n",
    "        return res"
   ]
  }
 ],
 "metadata": {
  "kernelspec": {
   "display_name": "Python 3",
   "language": "python",
   "name": "python3"
  },
  "language_info": {
   "codemirror_mode": {
    "name": "ipython",
    "version": 3
   },
   "file_extension": ".py",
   "mimetype": "text/x-python",
   "name": "python",
   "nbconvert_exporter": "python",
   "pygments_lexer": "ipython3",
   "version": "3.6.2"
  },
  "toc": {
   "base_numbering": 1,
   "nav_menu": {},
   "number_sections": true,
   "sideBar": true,
   "skip_h1_title": false,
   "title_cell": "Table of Contents",
   "title_sidebar": "Contents",
   "toc_cell": false,
   "toc_position": {},
   "toc_section_display": true,
   "toc_window_display": false
  }
 },
 "nbformat": 4,
 "nbformat_minor": 2
}
