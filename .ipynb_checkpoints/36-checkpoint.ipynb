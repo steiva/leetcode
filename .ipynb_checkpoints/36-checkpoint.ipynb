{
 "cells": [
  {
   "cell_type": "markdown",
   "metadata": {},
   "source": [
    "# 判断一个 9x9 的数独是否有效。\n",
    "\n",
    "只需要根据以下规则，验证已经填入的数字是否有效即可。\n",
    "\n",
    "数字 1-9 在每一行只能出现一次。\n",
    "数字 1-9 在每一列只能出现一次。\n",
    "数字 1-9 在每一个以粗实线分隔的 3x3 宫内只能出现一次。"
   ]
  },
  {
   "cell_type": "code",
   "execution_count": 3,
   "metadata": {
    "collapsed": true
   },
   "outputs": [],
   "source": [
    "class Solution:\n",
    "    def isValidSudoku(self, board: [[str]]) -> bool:\n",
    "        rows=[{} for i in range(9)]\n",
    "        columns=[{} for i in range(9)]\n",
    "        boxes=[{} for i in range(9)]\n",
    "        \n",
    "        for i in range(9):\n",
    "            for j in range(9):\n",
    "                if board[i][j]!='.':\n",
    "                    num=int(board[i][j])\n",
    "                    box_index = (i // 3 ) * 3 + j // 3\n",
    "                    rows[i][num] = rows[i].get(num, 0) + 1\n",
    "                    columns[j][num] = columns[j].get(num, 0) + 1\n",
    "                    boxes[box_index][num] = boxes[box_index].get(num, 0) + 1\n",
    "                    if rows[i][num] > 1 or columns[j][num] > 1 or boxes[box_index][num] > 1:\n",
    "                        return False       \n",
    "        return True        "
   ]
  },
  {
   "cell_type": "code",
   "execution_count": 4,
   "metadata": {},
   "outputs": [
    {
     "data": {
      "text/plain": [
       "[{}, {}, {}, {}, {}, {}, {}, {}, {}]"
      ]
     },
     "execution_count": 4,
     "metadata": {},
     "output_type": "execute_result"
    }
   ],
   "source": [
    "[{} for i in range(9)]"
   ]
  },
  {
   "cell_type": "code",
   "execution_count": null,
   "metadata": {
    "collapsed": true
   },
   "outputs": [],
   "source": []
  }
 ],
 "metadata": {
  "kernelspec": {
   "display_name": "Python 3",
   "language": "python",
   "name": "python3"
  },
  "language_info": {
   "codemirror_mode": {
    "name": "ipython",
    "version": 3
   },
   "file_extension": ".py",
   "mimetype": "text/x-python",
   "name": "python",
   "nbconvert_exporter": "python",
   "pygments_lexer": "ipython3",
   "version": "3.6.2"
  },
  "toc": {
   "base_numbering": 1,
   "nav_menu": {},
   "number_sections": true,
   "sideBar": true,
   "skip_h1_title": false,
   "title_cell": "Table of Contents",
   "title_sidebar": "Contents",
   "toc_cell": false,
   "toc_position": {},
   "toc_section_display": true,
   "toc_window_display": false
  }
 },
 "nbformat": 4,
 "nbformat_minor": 2
}
