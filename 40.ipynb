{
 "cells": [
  {
   "cell_type": "markdown",
   "metadata": {
    "collapsed": true
   },
   "source": [
    "##  num 40"
   ]
  },
  {
   "cell_type": "code",
   "execution_count": 16,
   "metadata": {
    "code_folding": []
   },
   "outputs": [
    {
     "name": "stdout",
     "output_type": "stream",
     "text": [
      "结果:[[7]]\n"
     ]
    }
   ],
   "source": [
    "from typing import List\n",
    "\n",
    "class Solution:\n",
    "    def combinationSum2(self, candidates: List[int], target: int) -> List[List[int]]:\n",
    "        size=len(candidates)\n",
    "        if size==0:\n",
    "            return []\n",
    "        candidates.sort()\n",
    "        path=[]\n",
    "        res=[]\n",
    "        self.__dfs(candidates,0,size,path,res,target)\n",
    "        #res=list(set(res)) res为List[List[]]\n",
    "        \n",
    "        return res\n",
    "    def __dfs(self,candidates,begin,size,path,res,target):\n",
    "        if target==0:\n",
    "            if path[:] in res:\n",
    "                return\n",
    "            res.append(path[:])\n",
    "            return\n",
    "        for index in range(begin,size):\n",
    "            residue=target-candidates[index]\n",
    "            if residue < 0:\n",
    "                break\n",
    "            path.append(candidates[index])\n",
    "            self.__dfs(candidates, index+1, size, path, res, residue)\n",
    "            path.pop()\n",
    "\n",
    "if __name__ == '__main__':\n",
    "    candidates = [2, 3, 6, 7]\n",
    "    target = 7\n",
    "    solution = Solution()\n",
    "    result = solution.combinationSum2(candidates, target)\n",
    "    print(\"结果:{}\".format(result))\n",
    "            "
   ]
  },
  {
   "cell_type": "code",
   "execution_count": 15,
   "metadata": {},
   "outputs": [
    {
     "name": "stdout",
     "output_type": "stream",
     "text": [
      "[11, 22, 11, 22, 33, 44, 55, 33, 66]\n",
      "[11, 22, 33, 44, 55, 66]\n",
      "[11, 22, 11, 22, 33, 44, 55, 55, 66]\n",
      "[33, 66, 11, 44, 22, 55]\n"
     ]
    }
   ],
   "source": [
    "list1=[11,22,11,22,33,44,55,33,66]\n",
    "list2=[]\n",
    "for i in list1:\n",
    "    if i not in list2:\n",
    "        list2.append(i)\n",
    "print(list1)\n",
    "print(list2)\n",
    "list1=[11,22,11,22,33,44,55,55,66]\n",
    "print(list1)\n",
    "print(list(set(list1)))"
   ]
  }
 ],
 "metadata": {
  "kernelspec": {
   "display_name": "Python 3",
   "language": "python",
   "name": "python3"
  },
  "language_info": {
   "codemirror_mode": {
    "name": "ipython",
    "version": 3
   },
   "file_extension": ".py",
   "mimetype": "text/x-python",
   "name": "python",
   "nbconvert_exporter": "python",
   "pygments_lexer": "ipython3",
   "version": "3.6.2"
  },
  "toc": {
   "base_numbering": 1,
   "nav_menu": {},
   "number_sections": true,
   "sideBar": true,
   "skip_h1_title": false,
   "title_cell": "Table of Contents",
   "title_sidebar": "Contents",
   "toc_cell": false,
   "toc_position": {
    "height": "calc(100% - 180px)",
    "left": "10px",
    "top": "150px",
    "width": "165px"
   },
   "toc_section_display": true,
   "toc_window_display": true
  },
  "varInspector": {
   "cols": {
    "lenName": 16,
    "lenType": 16,
    "lenVar": 40
   },
   "kernels_config": {
    "python": {
     "delete_cmd_postfix": "",
     "delete_cmd_prefix": "del ",
     "library": "var_list.py",
     "varRefreshCmd": "print(var_dic_list())"
    },
    "r": {
     "delete_cmd_postfix": ") ",
     "delete_cmd_prefix": "rm(",
     "library": "var_list.r",
     "varRefreshCmd": "cat(var_dic_list()) "
    }
   },
   "types_to_exclude": [
    "module",
    "function",
    "builtin_function_or_method",
    "instance",
    "_Feature"
   ],
   "window_display": false
  }
 },
 "nbformat": 4,
 "nbformat_minor": 2
}
