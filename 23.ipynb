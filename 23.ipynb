{
 "cells": [
  {
   "cell_type": "code",
   "execution_count": null,
   "metadata": {
    "collapsed": true
   },
   "outputs": [],
   "source": [
    "class Solution(object):\n",
    "    def mergeKLists(self, lists):\n",
    "        \"\"\"\n",
    "        :type lists: List[ListNode]\n",
    "        :rtype: ListNode\n",
    "        \"\"\"\n",
    "        amount = len(lists)\n",
    "        interval = 1\n",
    "        while interval < amount:\n",
    "            for i in range(0, amount - interval, interval * 2):\n",
    "                lists[i] = self.mergeTwoLists(lists[i], lists[i + interval])\n",
    "            interval *= 2\n",
    "        return lists[0] if amount > 0 else lists\n",
    "\n",
    "    \n",
    "    def mergeTwoLists(self, l1: ListNode, l2: ListNode) -> ListNode:\n",
    "        if l1 is None and l2 is None:\n",
    "            return None\n",
    "        dummy=ListNode(0)\n",
    "        pre=dummy\n",
    "        while l1 is not None and l2 is not None:\n",
    "            if l1.val<l2.val:\n",
    "                pre.next=l1\n",
    "                l1=l1.next\n",
    "            else:\n",
    "                pre.next=l2\n",
    "                l2=l2.next\n",
    "            pre=pre.next\n",
    "        if l1 is not None:\n",
    "            pre.next=l1\n",
    "        else:\n",
    "            pre.next=l2\n",
    "        \n",
    "        return dummy.next"
   ]
  }
 ],
 "metadata": {
  "kernelspec": {
   "display_name": "Python 3",
   "language": "python",
   "name": "python3"
  },
  "language_info": {
   "codemirror_mode": {
    "name": "ipython",
    "version": 3
   },
   "file_extension": ".py",
   "mimetype": "text/x-python",
   "name": "python",
   "nbconvert_exporter": "python",
   "pygments_lexer": "ipython3",
   "version": "3.6.2"
  },
  "toc": {
   "base_numbering": 1,
   "nav_menu": {},
   "number_sections": true,
   "sideBar": true,
   "skip_h1_title": false,
   "title_cell": "Table of Contents",
   "title_sidebar": "Contents",
   "toc_cell": false,
   "toc_position": {},
   "toc_section_display": true,
   "toc_window_display": false
  }
 },
 "nbformat": 4,
 "nbformat_minor": 2
}
