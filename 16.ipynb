{
 "cells": [
  {
   "cell_type": "code",
   "execution_count": 29,
   "metadata": {},
   "outputs": [],
   "source": [
    "class Solution:\n",
    "    def threeSumClosest(self,nums:[int],target:int)->int:\n",
    "        nums.sort()\n",
    "        count=[]\n",
    "        for k in range(len(nums)-2):\n",
    "            i,j=k+1,len(nums)-1\n",
    "            while i<j:\n",
    "                s=nums[i]+nums[j]+nums[k]\n",
    "                if s>target:\n",
    "                    j=j-1\n",
    "                if s<target:\n",
    "                    i=i+1\n",
    "                if s==target:\n",
    "                    return s\n",
    "                count.append(s)\n",
    "        print(count)\n",
    "        temp=list(map(lambda x:abs(x-target),count))\n",
    "        result=count[temp.index(min(temp))]       \n",
    "        return result"
   ]
  },
  {
   "cell_type": "markdown",
   "metadata": {},
   "source": [
    "给定一个包括 n 个整数的数组 nums 和 一个目标值 target。找出 nums 中的三个整数，使得它们的和与 target 最接近。返回这三个数的和。假定每组输入只存在唯一答案。\n",
    "\n",
    "例如，给定数组 nums = [-1，2，1，-4], 和 target = 1.\n",
    "\n",
    "与 target 最接近的三个数的和为 2. (-1 + 2 + 1 = 2).\n",
    "\n",
    "来源：力扣（LeetCode）\n",
    "链接：https://leetcode-cn.com/problems/3sum-closest\n",
    "著作权归领扣网络所有。商业转载请联系官方授权，非商业转载请注明出处。"
   ]
  },
  {
   "cell_type": "code",
   "execution_count": null,
   "metadata": {
    "collapsed": true
   },
   "outputs": [],
   "source": []
  }
 ],
 "metadata": {
  "kernelspec": {
   "display_name": "Python 3",
   "language": "python",
   "name": "python3"
  },
  "language_info": {
   "codemirror_mode": {
    "name": "ipython",
    "version": 3
   },
   "file_extension": ".py",
   "mimetype": "text/x-python",
   "name": "python",
   "nbconvert_exporter": "python",
   "pygments_lexer": "ipython3",
   "version": "3.6.2"
  },
  "toc": {
   "base_numbering": 1,
   "nav_menu": {},
   "number_sections": true,
   "sideBar": true,
   "skip_h1_title": false,
   "title_cell": "Table of Contents",
   "title_sidebar": "Contents",
   "toc_cell": false,
   "toc_position": {},
   "toc_section_display": true,
   "toc_window_display": false
  }
 },
 "nbformat": 4,
 "nbformat_minor": 2
}
