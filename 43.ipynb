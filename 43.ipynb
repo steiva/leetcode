{
 "cells": [
  {
   "cell_type": "markdown",
   "metadata": {},
   "source": [
    "给定两个以字符串形式表示的非负整数 num1 和 num2，返回 num1 和 num2 的乘积，它们的乘积也表示为字符串形式。\n",
    "\n",
    "示例 1:\n",
    "\n",
    "输入: num1 = \"2\", num2 = \"3\"\n",
    "输出: \"6\"\n",
    "示例 2:\n",
    "\n",
    "输入: num1 = \"123\", num2 = \"456\"\n",
    "输出: \"56088\"\n",
    "说明：\n",
    "\n",
    "num1 和 num2 的长度小于110。\n",
    "num1 和 num2 只包含数字 0-9。\n",
    "num1 和 num2 均不以零开头，除非是数字 0 本身。\n",
    "不能使用任何标准库的大数类型（比如 BigInteger）或直接将输入转换为整数来处理。\n"
   ]
  },
  {
   "cell_type": "code",
   "execution_count": 50,
   "metadata": {},
   "outputs": [
    {
     "name": "stdout",
     "output_type": "stream",
     "text": [
      "491555843274052692\n"
     ]
    }
   ],
   "source": [
    "from typing import List\n",
    "class Solution:\n",
    "    def multiply(self, num1: str, num2: str) -> str:\n",
    "        num1_list=list(num1)\n",
    "        num2_list=list(num2)\n",
    "        len1=len(num1_list)\n",
    "        len2=len(num2_list)\n",
    "        if num1_list[0]=='0' or num2_list[0]=='0':\n",
    "            return \"0\"\n",
    "        ans=[]\n",
    "        temp=0\n",
    "        result=0\n",
    "        for i in range(len1-1,-1,-1):\n",
    "            num1_count=int(num1_list[i])\n",
    "            add_next=0\n",
    "            for j in range(len2-1,-1,-1):\n",
    "                num2_count=int(num2_list[j])\n",
    "                mux=num1_count*num2_count\n",
    "                temp+=(10**(len1-1-i))*(10**(len2-1-j))*(mux%10+add_next)\n",
    "                add_next=int(mux/10)\n",
    "            temp+=add_next*(10**(len1-1-i))*(10**len2)\n",
    "        while temp>0:\n",
    "            ans.append(temp%10)\n",
    "            temp=temp//10\n",
    "        ans.reverse()\n",
    "        print(\"\".join('%s' %id for id in ans))\n",
    "        return \"\".join('%s' %id for id in ans)\n",
    "if __name__=='__main__':\n",
    "    num1 = \"6913259244\"\n",
    "    num2 = \"71103343\"\n",
    "    solution=Solution()\n",
    "    solution.multiply(num1,num2)\n"
   ]
  },
  {
   "cell_type": "code",
   "execution_count": 2,
   "metadata": {},
   "outputs": [
    {
     "data": {
      "text/plain": [
       "[[None, None, None, None, None, None, None, None, None, None],\n",
       " [None, None, None, None, None, None, None, None, None, None]]"
      ]
     },
     "execution_count": 2,
     "metadata": {},
     "output_type": "execute_result"
    }
   ],
   "source": [
    "## 创建一定长度空的list\n",
    "res=[[None]*10]*2\n",
    "res"
   ]
  }
 ],
 "metadata": {
  "kernelspec": {
   "display_name": "Python 3",
   "language": "python",
   "name": "python3"
  },
  "language_info": {
   "codemirror_mode": {
    "name": "ipython",
    "version": 3
   },
   "file_extension": ".py",
   "mimetype": "text/x-python",
   "name": "python",
   "nbconvert_exporter": "python",
   "pygments_lexer": "ipython3",
   "version": "3.6.2"
  },
  "toc": {
   "base_numbering": 1,
   "nav_menu": {},
   "number_sections": true,
   "sideBar": true,
   "skip_h1_title": false,
   "title_cell": "Table of Contents",
   "title_sidebar": "Contents",
   "toc_cell": false,
   "toc_position": {},
   "toc_section_display": true,
   "toc_window_display": false
  },
  "varInspector": {
   "cols": {
    "lenName": 16,
    "lenType": 16,
    "lenVar": 40
   },
   "kernels_config": {
    "python": {
     "delete_cmd_postfix": "",
     "delete_cmd_prefix": "del ",
     "library": "var_list.py",
     "varRefreshCmd": "print(var_dic_list())"
    },
    "r": {
     "delete_cmd_postfix": ") ",
     "delete_cmd_prefix": "rm(",
     "library": "var_list.r",
     "varRefreshCmd": "cat(var_dic_list()) "
    }
   },
   "position": {
    "height": "247px",
    "left": "1165px",
    "right": "20px",
    "top": "120px",
    "width": "360px"
   },
   "types_to_exclude": [
    "module",
    "function",
    "builtin_function_or_method",
    "instance",
    "_Feature"
   ],
   "window_display": true
  }
 },
 "nbformat": 4,
 "nbformat_minor": 2
}
