{
 "cells": [
  {
   "cell_type": "markdown",
   "metadata": {},
   "source": [
    "给定两个整数，被除数 dividend 和除数 divisor。将两数相除，要求不使用乘法、除法和 mod 运算符。\n",
    "\n",
    "返回被除数 dividend 除以除数 divisor 得到的商。\n",
    "\n",
    "示例 1:\n",
    "\n",
    "输入: dividend = 10, divisor = 3\n",
    "输出: 3\n",
    "示例 2:\n",
    "\n",
    "输入: dividend = 7, divisor = -3\n",
    "输出: -2\n"
   ]
  },
  {
   "cell_type": "code",
   "execution_count": 12,
   "metadata": {},
   "outputs": [],
   "source": [
    "class Solution:\n",
    "    def divide(self, dividend: int, divisor: int) -> int:\n",
    "        result=0\n",
    "        abs_dividend=abs(dividend)\n",
    "        abs_divisor=abs(divisor)\n",
    "        if (dividend<0 and divisor>0) or (dividend>0 and divisor<0):\n",
    "            while abs_dividend>=abs_divisor:\n",
    "                result-=1\n",
    "                abs_dividend-=abs_divisor\n",
    "        else:\n",
    "            while abs_dividend>=abs_divisor:\n",
    "                result+=1\n",
    "                abs_dividend-=abs_divisor\n",
    "        if result>2**31-1 or result<-2**31:\n",
    "            result=2**31-1\n",
    "        return result"
   ]
  },
  {
   "cell_type": "code",
   "execution_count": 14,
   "metadata": {},
   "outputs": [
    {
     "data": {
      "text/plain": [
       "2326515"
      ]
     },
     "execution_count": 14,
     "metadata": {},
     "output_type": "execute_result"
    }
   ],
   "source": [
    "a=Solution()\n",
    "a.divide(-2326515,-1)"
   ]
  },
  {
   "cell_type": "code",
   "execution_count": 19,
   "metadata": {},
   "outputs": [],
   "source": [
    "##别人写的\n",
    "def divide(dividend: int, divisor: int) -> int:\n",
    "    sign = (dividend > 0) ^ (divisor > 0)\n",
    "    #异或就处理了同时为某一状态判别的问题\n",
    "    dividend = abs(dividend)\n",
    "    divisor = abs(divisor)\n",
    "    count = 0\n",
    "    #把除数不断左移，直到它大于被除数\n",
    "    while dividend >= divisor:\n",
    "        count += 1\n",
    "        divisor <<= 1\n",
    "    result = 0\n",
    "    while count > 0:\n",
    "        count -= 1\n",
    "        divisor >>= 1\n",
    "        if divisor <= dividend:\n",
    "            result += 1 << count #这里的移位运算是把二进制（第count+1位上的1）转换为十进制\n",
    "            dividend -= divisor\n",
    "    if sign: result = -result\n",
    "    return result if -(1<<31) <= result <= (1<<31)-1 else (1<<31)-1 \n"
   ]
  },
  {
   "cell_type": "code",
   "execution_count": 20,
   "metadata": {},
   "outputs": [
    {
     "data": {
      "text/plain": [
       "-23256165"
      ]
     },
     "execution_count": 20,
     "metadata": {},
     "output_type": "execute_result"
    }
   ],
   "source": [
    "divide(-23256165,1)"
   ]
  }
 ],
 "metadata": {
  "kernelspec": {
   "display_name": "Python 3",
   "language": "python",
   "name": "python3"
  },
  "toc": {
   "base_numbering": 1,
   "nav_menu": {},
   "number_sections": true,
   "sideBar": true,
   "skip_h1_title": false,
   "title_cell": "Table of Contents",
   "title_sidebar": "Contents",
   "toc_cell": false,
   "toc_position": {},
   "toc_section_display": true,
   "toc_window_display": false
  }
 },
 "nbformat": 4,
 "nbformat_minor": 2
}
