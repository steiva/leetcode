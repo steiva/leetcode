{
 "cells": [
  {
   "cell_type": "markdown",
   "metadata": {},
   "source": [
    "# leetcode note 12"
   ]
  },
  {
   "cell_type": "markdown",
   "metadata": {},
   "source": [
    "## function"
   ]
  },
  {
   "cell_type": "code",
   "execution_count": 1,
   "metadata": {
    "collapsed": true
   },
   "outputs": [],
   "source": [
    "class Solution:\n",
    "    def intToRoman(self, num: int) -> str:\n",
    "        if num<1 or num>3999:\n",
    "            return \"input false\"\n",
    "        result = []\n",
    "        translist={'M':1000,'CM':900,'D':500,'CD':400,'C':100,'XC':90,\n",
    "                   'L':50,'XL':40,'X':10,'IX':9,'V':5,'IV':4,'I':1}\n",
    "        for roman,dec in translist.items():\n",
    "            if num>=dec:\n",
    "                result.extend([roman] * (num // dec))\n",
    "                num %= dec\n",
    "        return ''.join(result)\n",
    "            "
   ]
  },
  {
   "cell_type": "markdown",
   "metadata": {},
   "source": [
    "## test"
   ]
  },
  {
   "cell_type": "code",
   "execution_count": 3,
   "metadata": {},
   "outputs": [
    {
     "data": {
      "text/plain": [
       "'MMMCCXLVI'"
      ]
     },
     "execution_count": 3,
     "metadata": {},
     "output_type": "execute_result"
    }
   ],
   "source": [
    "a=Solution()\n",
    "a.intToRoman(3246)"
   ]
  },
  {
   "cell_type": "markdown",
   "metadata": {},
   "source": [
    "### dict oder"
   ]
  },
  {
   "cell_type": "code",
   "execution_count": 59,
   "metadata": {},
   "outputs": [
    {
     "name": "stdout",
     "output_type": "stream",
     "text": [
      "CDVIIII\n"
     ]
    }
   ],
   "source": [
    "translist={'V':5,'I':1,'X':10,'L':50,'C':100,'D':500,'M':1000,'CM':900,'CD':400,'XC':90,\n",
    "          'XL':40,'IX':9,'IV':4}\n",
    "# b=sorted(translist.items(),key=lambda item:item[1],reverse=True)\n",
    "result=[]\n",
    "num=409\n",
    "for roman,dec in sorted(translist.items(),key=lambda item:item[1],reverse=True):\n",
    "    if num>dec:\n",
    "        result.extend([roman] * (num // dec))\n",
    "        num %= dec\n",
    "print(''.join(result))\n"
   ]
  }
 ],
 "metadata": {
  "kernelspec": {
   "display_name": "Python 3",
   "language": "python",
   "name": "python3"
  },
  "language_info": {
   "codemirror_mode": {
    "name": "ipython",
    "version": 3
   },
   "file_extension": ".py",
   "mimetype": "text/x-python",
   "name": "python",
   "nbconvert_exporter": "python",
   "pygments_lexer": "ipython3",
   "version": "3.6.2"
  },
  "toc": {
   "base_numbering": 1,
   "nav_menu": {},
   "number_sections": true,
   "sideBar": true,
   "skip_h1_title": false,
   "title_cell": "Table of Contents",
   "title_sidebar": "Contents",
   "toc_cell": false,
   "toc_position": {},
   "toc_section_display": true,
   "toc_window_display": false
  }
 },
 "nbformat": 4,
 "nbformat_minor": 2
}
