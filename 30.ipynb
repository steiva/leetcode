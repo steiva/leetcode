{
 "cells": [
  {
   "cell_type": "markdown",
   "metadata": {},
   "source": [
    "#### 30. 串联所有单词的子串\n",
    "给定一个字符串 s 和一些长度相同的单词 words。找出 s 中恰好可以由 words 中所有单词串联形成的子串的起始位置。\n",
    "\n",
    "注意子串要与 words 中的单词完全匹配，中间不能有其他字符，但不需要考虑 words 中单词串联的顺序。\n",
    "\n",
    " \n",
    "\n",
    "示例 1：\n",
    "\n",
    "输入：\n",
    "  s = \"barfoothefoobarman\",\n",
    "  words = [\"foo\",\"bar\"]\n",
    "输出：[0,9]\n",
    "解释：\n",
    "从索引 0 和 9 开始的子串分别是 \"barfoor\" 和 \"foobar\" 。\n",
    "输出的顺序不重要, [9,0] 也是有效答案。\n",
    "\n"
   ]
  },
  {
   "cell_type": "code",
   "execution_count": 41,
   "metadata": {
    "collapsed": true
   },
   "outputs": [],
   "source": [
    "class Solution:\n",
    "    def findSubstring(self, s: str, words: str) -> int:\n",
    "        from collections import Counter\n",
    "        if not s or not words:return []\n",
    "        one_word=len(words[0])\n",
    "        word_num=len(words)\n",
    "        n=len(s)\n",
    "        words=Counter(words)\n",
    "        res=[]\n",
    "        for i in range(0,one_word):\n",
    "            cur_cnt=0\n",
    "            left=i\n",
    "            right=i\n",
    "            cur_Counter=Counter()\n",
    "            while right+one_word<=n:\n",
    "                w=s[right:right+one_word]\n",
    "                right+=one_word\n",
    "                cur_Counter[w]+=1\n",
    "                print('cur_Counter={}'.format(cur_Counter))\n",
    "                cur_cnt+=1\n",
    "                while cur_Counter[w]>words[w]:\n",
    "                    print('words[w]={},w={}'.format(words[w],w))\n",
    "                    left_w=s[left:left+one_word]\n",
    "                    left+=one_word\n",
    "                    print(left)\n",
    "                    cur_Counter[left_w]-=1\n",
    "                    cur_cnt-=1\n",
    "                    print('cur_cnt={},cur_Counter={}'.format(cur_cnt,cur_Counter))\n",
    "                if cur_cnt==word_num:\n",
    "                    print('result_cur_cnt={},cur_Counter={}'.format(cur_cnt,cur_Counter))\n",
    "                    res.append(left)\n",
    "        return res "
   ]
  },
  {
   "cell_type": "code",
   "execution_count": 5,
   "metadata": {},
   "outputs": [
    {
     "data": {
      "text/plain": [
       "collections.Counter"
      ]
     },
     "execution_count": 5,
     "metadata": {},
     "output_type": "execute_result"
    }
   ],
   "source": [
    "from collections import Counter\n",
    "a=Counter()\n",
    "type(a)"
   ]
  },
  {
   "cell_type": "code",
   "execution_count": 42,
   "metadata": {
    "scrolled": true
   },
   "outputs": [
    {
     "name": "stdout",
     "output_type": "stream",
     "text": [
      "cur_Counter=Counter({'bar': 1})\n",
      "cur_Counter=Counter({'bar': 1, 'foo': 1})\n",
      "result_cur_cnt=2,cur_Counter=Counter({'bar': 1, 'foo': 1})\n",
      "cur_Counter=Counter({'bar': 1, 'foo': 1, 'the': 1})\n",
      "words[w]=0,w=the\n",
      "3\n",
      "cur_cnt=2,cur_Counter=Counter({'foo': 1, 'the': 1, 'bar': 0})\n",
      "words[w]=0,w=the\n",
      "6\n",
      "cur_cnt=1,cur_Counter=Counter({'the': 1, 'bar': 0, 'foo': 0})\n",
      "words[w]=0,w=the\n",
      "9\n",
      "cur_cnt=0,cur_Counter=Counter({'bar': 0, 'foo': 0, 'the': 0})\n",
      "cur_Counter=Counter({'foo': 1, 'bar': 0, 'the': 0})\n",
      "cur_Counter=Counter({'bar': 1, 'foo': 1, 'the': 0})\n",
      "result_cur_cnt=2,cur_Counter=Counter({'bar': 1, 'foo': 1, 'the': 0})\n",
      "cur_Counter=Counter({'bar': 1, 'foo': 1, 'man': 1, 'the': 0})\n",
      "words[w]=0,w=man\n",
      "12\n",
      "cur_cnt=2,cur_Counter=Counter({'bar': 1, 'man': 1, 'foo': 0, 'the': 0})\n",
      "words[w]=0,w=man\n",
      "15\n",
      "cur_cnt=1,cur_Counter=Counter({'man': 1, 'bar': 0, 'foo': 0, 'the': 0})\n",
      "words[w]=0,w=man\n",
      "18\n",
      "cur_cnt=0,cur_Counter=Counter({'bar': 0, 'foo': 0, 'the': 0, 'man': 0})\n",
      "cur_Counter=Counter({'arf': 1})\n",
      "words[w]=0,w=arf\n",
      "4\n",
      "cur_cnt=0,cur_Counter=Counter({'arf': 0})\n",
      "cur_Counter=Counter({'oot': 1, 'arf': 0})\n",
      "words[w]=0,w=oot\n",
      "7\n",
      "cur_cnt=0,cur_Counter=Counter({'arf': 0, 'oot': 0})\n",
      "cur_Counter=Counter({'hef': 1, 'arf': 0, 'oot': 0})\n",
      "words[w]=0,w=hef\n",
      "10\n",
      "cur_cnt=0,cur_Counter=Counter({'arf': 0, 'oot': 0, 'hef': 0})\n",
      "cur_Counter=Counter({'oob': 1, 'arf': 0, 'oot': 0, 'hef': 0})\n",
      "words[w]=0,w=oob\n",
      "13\n",
      "cur_cnt=0,cur_Counter=Counter({'arf': 0, 'oot': 0, 'hef': 0, 'oob': 0})\n",
      "cur_Counter=Counter({'arm': 1, 'arf': 0, 'oot': 0, 'hef': 0, 'oob': 0})\n",
      "words[w]=0,w=arm\n",
      "16\n",
      "cur_cnt=0,cur_Counter=Counter({'arf': 0, 'oot': 0, 'hef': 0, 'oob': 0, 'arm': 0})\n",
      "cur_Counter=Counter({'rfo': 1})\n",
      "words[w]=0,w=rfo\n",
      "5\n",
      "cur_cnt=0,cur_Counter=Counter({'rfo': 0})\n",
      "cur_Counter=Counter({'oth': 1, 'rfo': 0})\n",
      "words[w]=0,w=oth\n",
      "8\n",
      "cur_cnt=0,cur_Counter=Counter({'rfo': 0, 'oth': 0})\n",
      "cur_Counter=Counter({'efo': 1, 'rfo': 0, 'oth': 0})\n",
      "words[w]=0,w=efo\n",
      "11\n",
      "cur_cnt=0,cur_Counter=Counter({'rfo': 0, 'oth': 0, 'efo': 0})\n",
      "cur_Counter=Counter({'oba': 1, 'rfo': 0, 'oth': 0, 'efo': 0})\n",
      "words[w]=0,w=oba\n",
      "14\n",
      "cur_cnt=0,cur_Counter=Counter({'rfo': 0, 'oth': 0, 'efo': 0, 'oba': 0})\n",
      "cur_Counter=Counter({'rma': 1, 'rfo': 0, 'oth': 0, 'efo': 0, 'oba': 0})\n",
      "words[w]=0,w=rma\n",
      "17\n",
      "cur_cnt=0,cur_Counter=Counter({'rfo': 0, 'oth': 0, 'efo': 0, 'oba': 0, 'rma': 0})\n"
     ]
    }
   ],
   "source": [
    "s = \"barfoothefoobarman\"\n",
    "words = [\"foo\",\"bar\"]\n",
    "a=Solution()\n",
    "b=a.findSubstring(s,words)"
   ]
  },
  {
   "cell_type": "code",
   "execution_count": 38,
   "metadata": {},
   "outputs": [
    {
     "data": {
      "text/plain": [
       "2"
      ]
     },
     "execution_count": 38,
     "metadata": {},
     "output_type": "execute_result"
    }
   ],
   "source": [
    "word_num=len(words)\n",
    "word_num"
   ]
  },
  {
   "cell_type": "code",
   "execution_count": 24,
   "metadata": {},
   "outputs": [
    {
     "ename": "TypeError",
     "evalue": "list indices must be integers or slices, not str",
     "output_type": "error",
     "traceback": [
      "\u001b[1;31m---------------------------------------------------------------------------\u001b[0m",
      "\u001b[1;31mTypeError\u001b[0m                                 Traceback (most recent call last)",
      "\u001b[1;32m<ipython-input-24-4259084c62a8>\u001b[0m in \u001b[0;36m<module>\u001b[1;34m()\u001b[0m\n\u001b[0;32m      3\u001b[0m \u001b[0mright\u001b[0m\u001b[1;33m=\u001b[0m\u001b[1;36m0\u001b[0m\u001b[1;33m\u001b[0m\u001b[0m\n\u001b[0;32m      4\u001b[0m \u001b[0mw\u001b[0m\u001b[1;33m=\u001b[0m\u001b[0ms\u001b[0m\u001b[1;33m[\u001b[0m\u001b[0mright\u001b[0m\u001b[1;33m:\u001b[0m\u001b[0mright\u001b[0m\u001b[1;33m+\u001b[0m\u001b[0mone_word\u001b[0m\u001b[1;33m]\u001b[0m\u001b[1;33m\u001b[0m\u001b[0m\n\u001b[1;32m----> 5\u001b[1;33m \u001b[0mwords\u001b[0m\u001b[1;33m[\u001b[0m\u001b[0mw\u001b[0m\u001b[1;33m]\u001b[0m\u001b[1;33m\u001b[0m\u001b[0m\n\u001b[0m",
      "\u001b[1;31mTypeError\u001b[0m: list indices must be integers or slices, not str"
     ]
    }
   ],
   "source": [
    "one_word=len(words[0])\n",
    "one_word\n",
    "right=0\n",
    "w=s[right:right+one_word]\n",
    "words[w]\n"
   ]
  }
 ],
 "metadata": {
  "kernelspec": {
   "display_name": "Python 3",
   "language": "python",
   "name": "python3"
  },
  "language_info": {
   "codemirror_mode": {
    "name": "ipython",
    "version": 3
   },
   "file_extension": ".py",
   "mimetype": "text/x-python",
   "name": "python",
   "nbconvert_exporter": "python",
   "pygments_lexer": "ipython3",
   "version": "3.6.2"
  },
  "toc": {
   "base_numbering": 1,
   "nav_menu": {},
   "number_sections": true,
   "sideBar": true,
   "skip_h1_title": false,
   "title_cell": "Table of Contents",
   "title_sidebar": "Contents",
   "toc_cell": false,
   "toc_position": {},
   "toc_section_display": true,
   "toc_window_display": false
  }
 },
 "nbformat": 4,
 "nbformat_minor": 2
}
