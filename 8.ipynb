{
 "cells": [
  {
   "cell_type": "code",
   "execution_count": 22,
   "metadata": {},
   "outputs": [],
   "source": [
    "class Solution:\n",
    "    def myAtoi(self, str: str) -> int:\n",
    "        list1=list(str)\n",
    "        flag=1\n",
    "        result=0\n",
    "        num=[]\n",
    "        for i in range(len(list1)):\n",
    "            if list1[i]!=' ':\n",
    "                if list1[i]=='-':\n",
    "                    flag=-1\n",
    "                    if list1[i+1]<'0' or list1[i+1]>'9':\n",
    "                        flag=1\n",
    "                elif list1[i]>='0' and list1[i]<='9':\n",
    "                    num.append(int(list1[i]))\n",
    "                    if i<=len(list1)-2 and (list1[i+1]<'0' or list1[i+1]>'9'):\n",
    "                        break\n",
    "                else:\n",
    "                    break\n",
    "        for i in range(len(num)):\n",
    "            result+=10**i*(num[len(num)-1-i])            \n",
    "        result=result*flag\n",
    "        if result<-2**31:\n",
    "            result=-2**31\n",
    "        if result>2**31-1:\n",
    "            result=2**31-1\n",
    "        return result"
   ]
  },
  {
   "cell_type": "code",
   "execution_count": 30,
   "metadata": {},
   "outputs": [],
   "source": [
    "## 标准答案\n",
    "class Solution:\n",
    "    def myAtoi(self, str: str) -> int:\n",
    "        return max(min(int(*re.findall('^[\\+\\-]?\\d+', str.lstrip())), 2**31 - 1), -2**31)\n"
   ]
  }
 ],
 "metadata": {
  "kernelspec": {
   "display_name": "Python 3",
   "language": "python",
   "name": "python3"
  },
  "language_info": {
   "codemirror_mode": {
    "name": "ipython",
    "version": 3
   },
   "file_extension": ".py",
   "mimetype": "text/x-python",
   "name": "python",
   "nbconvert_exporter": "python",
   "pygments_lexer": "ipython3",
   "version": "3.6.2"
  }
 },
 "nbformat": 4,
 "nbformat_minor": 2
}
