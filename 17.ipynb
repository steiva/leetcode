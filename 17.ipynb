{
 "cells": [
  {
   "cell_type": "markdown",
   "metadata": {},
   "source": [
    "给定一个仅包含数字 2-9 的字符串，返回所有它能表示的字母组合。\n",
    "\n",
    "给出数字到字母的映射如下（与电话按键相同）。\n",
    "\n",
    "注意 1 不对应任何字母。\n",
    "\n",
    "<img src=\"./17_telephone_keypad.png\", width=160, heigth=120>\n",
    "\n",
    "输入：\"23\"\n",
    "\n",
    "输出：[\"ad\", \"ae\", \"af\", \"bd\", \"be\", \"bf\", \"cd\", \"ce\", \"cf\"]."
   ]
  },
  {
   "cell_type": "code",
   "execution_count": 2,
   "metadata": {
    "collapsed": true
   },
   "outputs": [],
   "source": [
    "#未完成\n",
    "\n",
    "class Solution:\n",
    "    def letterCombinations(self, digits: str) -> [str]:\n",
    "        transfer={'2':['a','b','c'],'3':['d','e','f'],'4':['g','h','i'],'5':['j','k','l'],\n",
    "                  '6':['m','n','o'],'7':['p','q','r','s'],'8':['t','u','v'],'9':['w','x','y','z']}\n",
    "        temp=[[]]\n",
    "        result=[]  \n",
    "\n",
    "        for i in range(len(digits)):\n",
    "            temp.append(transfer[digits[i]])\n",
    "        temp.remove([])\n",
    "        temp1=[]\n",
    "        basic=temp[0]\n",
    "        for i in range(1,len(temp)):   \n",
    "            for j in range(len(temp[i])):\n",
    "                temp1.extend(list(map(lambda x:x+temp[i][j],basic)))\n",
    "            basic=temp1\n",
    "        return temp1"
   ]
  },
  {
   "cell_type": "code",
   "execution_count": 24,
   "metadata": {},
   "outputs": [],
   "source": [
    "\n",
    "# 电话号码的字母组合\n",
    "# 力扣（LeetCode）\n",
    "# 发布于 4 个月前\n",
    "# 23.0k 阅读\n",
    "# 官方题解\n",
    "# 回溯算法\n",
    "# Java\n",
    "# Python\n",
    "# 方法：回溯\n",
    "# 回溯是一种通过穷举所有可能情况来找到所有解的算法。如果一个候选解最后被发现并不是可行解，回溯算法\n",
    "#会舍弃它，并在前面的一些步骤做出一些修改，并重新尝试找到可行解。\n",
    "# 给出如下回溯函数 backtrack(combination, next_digits) ，它将一个目前已经产生的组合 combination 和\n",
    "#接下来准备要输入的数字 next_digits 作为参数。\n",
    "# 如果没有更多的数字需要被输入，那意味着当前的组合已经产生好了。\n",
    "# 如果还有数字需要被输入：\n",
    "# 遍历下一个数字所对应的所有映射的字母。\n",
    "# 将当前的字母添加到组合最后，也就是 combination = combination + letter 。\n",
    "# 重复这个过程，输入剩下的数字： backtrack(combination + letter, next_digits[1:]) 。\n",
    "class Solution:\n",
    "    def letterCombinations(self, digits):\n",
    "        \"\"\"\n",
    "        :type digits: str\n",
    "        :rtype: List[str]\n",
    "        \"\"\"\n",
    "        phone = {'2': ['a', 'b', 'c'],\n",
    "                 '3': ['d', 'e', 'f'],\n",
    "                 '4': ['g', 'h', 'i'],\n",
    "                 '5': ['j', 'k', 'l'],\n",
    "                 '6': ['m', 'n', 'o'],\n",
    "                 '7': ['p', 'q', 'r', 's'],\n",
    "                 '8': ['t', 'u', 'v'],\n",
    "                 '9': ['w', 'x', 'y', 'z']}\n",
    "                \n",
    "        def backtrack(combination, next_digits):\n",
    "            # if there is no more digits to check\n",
    "            if len(next_digits) == 0:\n",
    "                # the combination is done\n",
    "                output.append(combination)\n",
    "            # if there are still digits to check\n",
    "            else:\n",
    "                # iterate over all letters which map \n",
    "                # the next available digit\n",
    "                for letter in phone[next_digits[0]]:\n",
    "                    # append the current letter to the combination\n",
    "                    # and proceed to the next digits\n",
    "                    backtrack(combination + letter, next_digits[1:])\n",
    "                    \n",
    "        output = []\n",
    "        if digits:\n",
    "            backtrack(\"\", digits)\n",
    "        return output"
   ]
  }
 ],
 "metadata": {
  "kernelspec": {
   "display_name": "Python 3",
   "language": "python",
   "name": "python3"
  },
  "language_info": {
   "codemirror_mode": {
    "name": "ipython",
    "version": 3
   },
   "file_extension": ".py",
   "mimetype": "text/x-python",
   "name": "python",
   "nbconvert_exporter": "python",
   "pygments_lexer": "ipython3",
   "version": "3.6.2"
  },
  "toc": {
   "base_numbering": 1,
   "nav_menu": {},
   "number_sections": true,
   "sideBar": true,
   "skip_h1_title": false,
   "title_cell": "Table of Contents",
   "title_sidebar": "Contents",
   "toc_cell": false,
   "toc_position": {},
   "toc_section_display": true,
   "toc_window_display": false
  }
 },
 "nbformat": 4,
 "nbformat_minor": 2
}
