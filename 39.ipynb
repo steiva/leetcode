{
 "cells": [
  {
   "cell_type": "code",
   "execution_count": 14,
   "metadata": {},
   "outputs": [],
   "source": [
    "from typing import List\n",
    "class Solution:\n",
    "    def combinationSum(self, candidates: List[int], target: int) -> List[List[int]]:\n",
    "        size=len(candidates)\n",
    "        if size==0:\n",
    "            return []\n",
    "        candidates.sort()\n",
    "        path=[]\n",
    "        res=[]\n",
    "        self.__dfs(candidates,0,size,path,res,target)\n",
    "        return res\n",
    "    def __dfs(candidates,begin,size,path,res,target):\n",
    "        # 先写递归终止的情况\n",
    "        if target==0:\n",
    "            res.append(path[:])\n",
    "            return\n",
    "        for index in range(begin,size):\n",
    "            residue=target-candidates[index]\n",
    "            # \"剪枝\"操作，不必递归到下一层，并且后面的分支也不必执行\n",
    "            if residue<0:\n",
    "                break\n",
    "            path.append(candidates[index])\n",
    "            self._dfs(candidates,index,size,path,res,residue)\n",
    "            path.pop()\n",
    "\n",
    "    "
   ]
  },
  {
   "cell_type": "code",
   "execution_count": 15,
   "metadata": {},
   "outputs": [
    {
     "ename": "TypeError",
     "evalue": "__dfs() takes 6 positional arguments but 7 were given",
     "output_type": "error",
     "traceback": [
      "\u001b[1;31m---------------------------------------------------------------------------\u001b[0m",
      "\u001b[1;31mTypeError\u001b[0m                                 Traceback (most recent call last)",
      "\u001b[1;32m<ipython-input-15-1592f7fc0655>\u001b[0m in \u001b[0;36m<module>\u001b[1;34m()\u001b[0m\n\u001b[0;32m      2\u001b[0m \u001b[0mtarget\u001b[0m\u001b[1;33m=\u001b[0m\u001b[1;36m7\u001b[0m\u001b[1;33m\u001b[0m\u001b[0m\n\u001b[0;32m      3\u001b[0m \u001b[0msolution\u001b[0m\u001b[1;33m=\u001b[0m\u001b[0mSolution\u001b[0m\u001b[1;33m(\u001b[0m\u001b[1;33m)\u001b[0m\u001b[1;33m\u001b[0m\u001b[0m\n\u001b[1;32m----> 4\u001b[1;33m \u001b[0mresult\u001b[0m\u001b[1;33m=\u001b[0m\u001b[0msolution\u001b[0m\u001b[1;33m.\u001b[0m\u001b[0mcombinationSum\u001b[0m\u001b[1;33m(\u001b[0m\u001b[0mcandidates\u001b[0m\u001b[1;33m,\u001b[0m\u001b[0mtarget\u001b[0m\u001b[1;33m)\u001b[0m\u001b[1;33m\u001b[0m\u001b[0m\n\u001b[0m\u001b[0;32m      5\u001b[0m \u001b[0mprint\u001b[0m\u001b[1;33m(\u001b[0m\u001b[0mresult\u001b[0m\u001b[1;33m)\u001b[0m\u001b[1;33m\u001b[0m\u001b[0m\n",
      "\u001b[1;32m<ipython-input-14-d1bca6a25732>\u001b[0m in \u001b[0;36mcombinationSum\u001b[1;34m(self, candidates, target)\u001b[0m\n\u001b[0;32m      8\u001b[0m         \u001b[0mpath\u001b[0m\u001b[1;33m=\u001b[0m\u001b[1;33m[\u001b[0m\u001b[1;33m]\u001b[0m\u001b[1;33m\u001b[0m\u001b[0m\n\u001b[0;32m      9\u001b[0m         \u001b[0mres\u001b[0m\u001b[1;33m=\u001b[0m\u001b[1;33m[\u001b[0m\u001b[1;33m]\u001b[0m\u001b[1;33m\u001b[0m\u001b[0m\n\u001b[1;32m---> 10\u001b[1;33m         \u001b[0mself\u001b[0m\u001b[1;33m.\u001b[0m\u001b[0m__dfs\u001b[0m\u001b[1;33m(\u001b[0m\u001b[0mcandidates\u001b[0m\u001b[1;33m,\u001b[0m\u001b[1;36m0\u001b[0m\u001b[1;33m,\u001b[0m\u001b[0msize\u001b[0m\u001b[1;33m,\u001b[0m\u001b[0mpath\u001b[0m\u001b[1;33m,\u001b[0m\u001b[0mres\u001b[0m\u001b[1;33m,\u001b[0m\u001b[0mtarget\u001b[0m\u001b[1;33m)\u001b[0m\u001b[1;33m\u001b[0m\u001b[0m\n\u001b[0m\u001b[0;32m     11\u001b[0m         \u001b[1;32mreturn\u001b[0m \u001b[0mres\u001b[0m\u001b[1;33m\u001b[0m\u001b[0m\n\u001b[0;32m     12\u001b[0m     \u001b[1;32mdef\u001b[0m \u001b[0m__dfs\u001b[0m\u001b[1;33m(\u001b[0m\u001b[0mcandidates\u001b[0m\u001b[1;33m,\u001b[0m\u001b[0mbegin\u001b[0m\u001b[1;33m,\u001b[0m\u001b[0msize\u001b[0m\u001b[1;33m,\u001b[0m\u001b[0mpath\u001b[0m\u001b[1;33m,\u001b[0m\u001b[0mres\u001b[0m\u001b[1;33m,\u001b[0m\u001b[0mtarget\u001b[0m\u001b[1;33m)\u001b[0m\u001b[1;33m:\u001b[0m\u001b[1;33m\u001b[0m\u001b[0m\n",
      "\u001b[1;31mTypeError\u001b[0m: __dfs() takes 6 positional arguments but 7 were given"
     ]
    }
   ],
   "source": [
    "candidates=[2,3,6,7]\n",
    "target=7\n",
    "solution=Solution()\n",
    "result=solution.combinationSum(candidates,target)\n",
    "print(result)"
   ]
  },
  {
   "cell_type": "code",
   "execution_count": 13,
   "metadata": {},
   "outputs": [
    {
     "name": "stdout",
     "output_type": "stream",
     "text": [
      "[[2, 2, 3], [7]]\n"
     ]
    }
   ],
   "source": [
    "from typing import List\n",
    "\n",
    "\n",
    "class Solution:\n",
    "    def combinationSum(self, candidates: List[int], target: int) -> List[List[int]]:\n",
    "        size = len(candidates)\n",
    "        if size == 0:\n",
    "            return []\n",
    "\n",
    "        # 剪枝是为了提速，在本题非必需\n",
    "        candidates.sort()\n",
    "        # 在遍历的过程中记录路径，它是一个栈\n",
    "        path = []\n",
    "        res = []\n",
    "        # 注意要传入 size ，在 range 中， size 取不到\n",
    "        self.__dfs(candidates, 0, size, path, res, target)\n",
    "        return res\n",
    "\n",
    "    def __dfs(self, candidates, begin, size, path, res, target):\n",
    "        # 先写递归终止的情况\n",
    "        if target == 0:\n",
    "            # Python 中可变对象是引用传递，因此需要将当前 path 里的值拷贝出来\n",
    "            # 或者使用 path.copy()\n",
    "            res.append(path[:])\n",
    "            return\n",
    "\n",
    "        for index in range(begin, size):\n",
    "            residue = target - candidates[index]\n",
    "            # “剪枝”操作，不必递归到下一层，并且后面的分支也不必执行\n",
    "            if residue < 0:\n",
    "                break\n",
    "            path.append(candidates[index])\n",
    "            # 因为下一层不能比上一层还小，起始索引还从 index 开始\n",
    "            self.__dfs(candidates, index, size, path, res, residue)\n",
    "            path.pop()\n",
    "\n",
    "\n",
    "if __name__ == '__main__':\n",
    "    candidates = [2, 3, 6, 7]\n",
    "    target = 7\n",
    "    solution = Solution()\n",
    "    result = solution.combinationSum(candidates, target)\n",
    "    print(result)"
   ]
  }
 ],
 "metadata": {
  "kernelspec": {
   "display_name": "Python 3",
   "language": "python",
   "name": "python3"
  },
  "language_info": {
   "codemirror_mode": {
    "name": "ipython",
    "version": 3
   },
   "file_extension": ".py",
   "mimetype": "text/x-python",
   "name": "python",
   "nbconvert_exporter": "python",
   "pygments_lexer": "ipython3",
   "version": "3.6.2"
  },
  "toc": {
   "base_numbering": 1,
   "nav_menu": {},
   "number_sections": true,
   "sideBar": true,
   "skip_h1_title": false,
   "title_cell": "Table of Contents",
   "title_sidebar": "Contents",
   "toc_cell": false,
   "toc_position": {},
   "toc_section_display": true,
   "toc_window_display": false
  }
 },
 "nbformat": 4,
 "nbformat_minor": 2
}
