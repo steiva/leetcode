{
 "cells": [
  {
   "cell_type": "code",
   "execution_count": 1,
   "metadata": {
    "collapsed": true
   },
   "outputs": [],
   "source": [
    "from typing import List\n",
    "class Solution:\n",
    "    def combinationSum(self, candidates: List[int], target: int) -> List[List[int]]:\n",
    "        size=len(candidates)\n",
    "        if size==0:\n",
    "            return []\n",
    "        candidates.sort()\n",
    "        path=[]\n",
    "        res=[]\n",
    "        self.__dfs(candidates,0,size,path,res,target)\n",
    "        return res\n",
    "    def __dfs(self,candidates,begin,size,path,res,target):\n",
    "        # 先写递归终止的情况\n",
    "        if target==0:\n",
    "            res.append(path[:])\n",
    "            return\n",
    "        for index in range(begin,size):\n",
    "            residue=target-candidates[index]\n",
    "            # \"剪枝\"操作，不必递归到下一层，并且后面的分支也不必执行\n",
    "            if residue<0:\n",
    "                break\n",
    "            path.append(candidates[index])\n",
    "            self.__dfs(candidates,index,size,path,res,residue)\n",
    "            path.pop()\n",
    "\n",
    "    "
   ]
  },
  {
   "cell_type": "code",
   "execution_count": 2,
   "metadata": {},
   "outputs": [
    {
     "name": "stdout",
     "output_type": "stream",
     "text": [
      "[[2, 2, 3], [7]]\n"
     ]
    }
   ],
   "source": [
    "candidates=[2,3,6,7]\n",
    "target=7\n",
    "solution=Solution()\n",
    "result=solution.combinationSum(candidates,target)\n",
    "print(result)"
   ]
  },
  {
   "cell_type": "code",
   "execution_count": 3,
   "metadata": {
    "code_folding": []
   },
   "outputs": [
    {
     "name": "stdout",
     "output_type": "stream",
     "text": [
      "[2]\n",
      "[2, 2]\n",
      "[2, 2, 2]\n",
      "[2, 2, 3]\n",
      "[2, 3]\n",
      "[3]\n",
      "[3, 3]\n",
      "[6]\n",
      "[7]\n",
      "结果:[[2, 2, 3], [7]]\n"
     ]
    }
   ],
   "source": [
    "from typing import List\n",
    "\n",
    "\n",
    "class Solution:\n",
    "    def combinationSum(self, candidates: List[int], target: int) -> List[List[int]]:\n",
    "        size = len(candidates)\n",
    "        if size == 0:\n",
    "            return []\n",
    "\n",
    "        # 剪枝是为了提速，在本题非必需\n",
    "        candidates.sort()\n",
    "        # 在遍历的过程中记录路径，它是一个栈\n",
    "        path = []\n",
    "        res = []\n",
    "        # 注意要传入 size ，在 range 中， size 取不到\n",
    "        self.__dfs(candidates, 0, size, path, res, target)\n",
    "        return res\n",
    "\n",
    "    def __dfs(self, candidates, begin, size, path, res, target):\n",
    "        # 先写递归终止的情况\n",
    "        if target == 0:\n",
    "            # Python 中可变对象是引用传递，因此需要将当前 path 里的值拷贝出来\n",
    "            # 或者使用 path.copy()\n",
    "            res.append(path[:])\n",
    "            return\n",
    "\n",
    "        for index in range(begin, size):\n",
    "            residue = target - candidates[index]\n",
    "            # “剪枝”操作，不必递归到下一层，并且后面的分支也不必执行\n",
    "            if residue < 0:\n",
    "                break\n",
    "            path.append(candidates[index])\n",
    "            print(path)\n",
    "            # 因为下一层不能比上一层还小，起始索引还从 index 开始\n",
    "            self.__dfs(candidates, index, size, path, res, residue)\n",
    "            path.pop()\n",
    "\n",
    "\n",
    "if __name__ == '__main__':\n",
    "    candidates = [2, 3, 6, 7]\n",
    "    target = 7\n",
    "    solution = Solution()\n",
    "    result = solution.combinationSum(candidates, target)\n",
    "    print(\"结果:{}\".format(result))"
   ]
  }
 ],
 "metadata": {
  "kernelspec": {
   "display_name": "Python 3",
   "language": "python",
   "name": "python3"
  },
  "language_info": {
   "codemirror_mode": {
    "name": "ipython",
    "version": 3
   },
   "file_extension": ".py",
   "mimetype": "text/x-python",
   "name": "python",
   "nbconvert_exporter": "python",
   "pygments_lexer": "ipython3",
   "version": "3.6.2"
  },
  "toc": {
   "base_numbering": 1,
   "nav_menu": {},
   "number_sections": true,
   "sideBar": true,
   "skip_h1_title": false,
   "title_cell": "Table of Contents",
   "title_sidebar": "Contents",
   "toc_cell": false,
   "toc_position": {},
   "toc_section_display": true,
   "toc_window_display": false
  },
  "varInspector": {
   "cols": {
    "lenName": 16,
    "lenType": 16,
    "lenVar": 40
   },
   "kernels_config": {
    "python": {
     "delete_cmd_postfix": "",
     "delete_cmd_prefix": "del ",
     "library": "var_list.py",
     "varRefreshCmd": "print(var_dic_list())"
    },
    "r": {
     "delete_cmd_postfix": ") ",
     "delete_cmd_prefix": "rm(",
     "library": "var_list.r",
     "varRefreshCmd": "cat(var_dic_list()) "
    }
   },
   "oldHeight": 273.4,
   "position": {
    "height": "40px",
    "left": "983px",
    "right": "20px",
    "top": "118px",
    "width": "362px"
   },
   "types_to_exclude": [
    "module",
    "function",
    "builtin_function_or_method",
    "instance",
    "_Feature"
   ],
   "varInspector_section_display": "none",
   "window_display": true
  }
 },
 "nbformat": 4,
 "nbformat_minor": 2
}
