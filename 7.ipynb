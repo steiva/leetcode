{
 "cells": [
  {
   "cell_type": "code",
   "execution_count": 1,
   "metadata": {
    "collapsed": true
   },
   "outputs": [],
   "source": [
    "class Solution:\n",
    "    def reverse(self, x: int) -> int:\n",
    "        flag=1\n",
    "        if x<0:\n",
    "            flag=-1\n",
    "        num=self.RecordNum(x)\n",
    "        result=0\n",
    "        for i in range(len(num)-1,-1,-1):\n",
    "            result+=10**i*(num[len(num)-1-i])            \n",
    "        result=result*flag\n",
    "        if result<-2**31 or result>2**31-1:\n",
    "            result=0\n",
    "        return result\n",
    "    def RecordNum(self,x:int):\n",
    "        x=abs(x)\n",
    "        list=str(x)\n",
    "        recordlist=[]\n",
    "        for i in range(len(list)):\n",
    "            recordlist.append(int(list[len(list)-i-1]))            \n",
    "        return recordlist"
   ]
  },
  {
   "cell_type": "code",
   "execution_count": 2,
   "metadata": {},
   "outputs": [
    {
     "name": "stdout",
     "output_type": "stream",
     "text": [
      "[3, 2, 1, 3, 2, 1]\n"
     ]
    }
   ],
   "source": [
    "x=-123123\n",
    "x=abs(x)\n",
    "list=str(x)\n",
    "recordlist=[]\n",
    "for i in range(len(list)):\n",
    "     recordlist.append(int(list[len(list)-i-1]))   \n",
    "print(recordlist)"
   ]
  },
  {
   "cell_type": "code",
   "execution_count": 4,
   "metadata": {},
   "outputs": [
    {
     "name": "stdout",
     "output_type": "stream",
     "text": [
      "6\n",
      "5\n",
      "4\n",
      "3\n",
      "2\n",
      "1\n"
     ]
    }
   ],
   "source": [
    "for i in range(len(list),0,-1):\n",
    "    print(i)"
   ]
  },
  {
   "cell_type": "code",
   "execution_count": 32,
   "metadata": {},
   "outputs": [
    {
     "name": "stdout",
     "output_type": "stream",
     "text": [
      "[0]\n",
      "0\n"
     ]
    },
    {
     "data": {
      "text/plain": [
       "0"
      ]
     },
     "execution_count": 32,
     "metadata": {},
     "output_type": "execute_result"
    }
   ],
   "source": [
    "a=Solution()\n",
    "a.reverse(0)"
   ]
  }
 ],
 "metadata": {
  "kernelspec": {
   "display_name": "Python 3",
   "language": "python",
   "name": "python3"
  },
  "language_info": {
   "codemirror_mode": {
    "name": "ipython",
    "version": 3
   },
   "file_extension": ".py",
   "mimetype": "text/x-python",
   "name": "python",
   "nbconvert_exporter": "python",
   "pygments_lexer": "ipython3",
   "version": "3.6.2"
  }
 },
 "nbformat": 4,
 "nbformat_minor": 2
}
