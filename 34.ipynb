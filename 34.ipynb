{
 "cells": [
  {
   "cell_type": "markdown",
   "metadata": {},
   "source": [
    "# 在排序数组中查找元素的第一个和最后一个位置\n",
    "给定一个按照升序排列的整数数组 nums，和一个目标值 target。找出给定目标值在数组中的开始位置和结束位置。\n",
    "\n",
    "你的算法时间复杂度必须是 O(log n) 级别。\n",
    "\n",
    "如果数组中不存在目标值，返回 [-1, -1]。\n",
    "输入: nums = [5,7,7,8,8,10], target = 8\n",
    "输出: [3,4]"
   ]
  },
  {
   "cell_type": "code",
   "execution_count": 1,
   "metadata": {
    "collapsed": true
   },
   "outputs": [],
   "source": [
    "class Solution:\n",
    "    def searchRange(self, nums: [int], target: int) -> [int]:\n",
    "        left_idx=self.extreme_insertion_index(nums,target,True)\n",
    "        if left_idx==len(nums) or nums[left_idx]!=target:\n",
    "            return [-1,1]\n",
    "        return[left_idx,self.extreme_insertion_index(nums,target,False)-1]\n",
    "    \n",
    "    def extreme_insertion_index(self,nums,target,left):\n",
    "        lo=0\n",
    "        hi=len(nums)\n",
    "        while lo<hi:\n",
    "            mid=(lo+hi)//2\n",
    "            if nums[mid]>target or (left and target==nums[mid]):\n",
    "                hi=mid\n",
    "            else:\n",
    "                lo=mid+1\n",
    "        return lo"
   ]
  }
 ],
 "metadata": {
  "kernelspec": {
   "display_name": "Python 3",
   "language": "python",
   "name": "python3"
  },
  "language_info": {
   "codemirror_mode": {
    "name": "ipython",
    "version": 3
   },
   "file_extension": ".py",
   "mimetype": "text/x-python",
   "name": "python",
   "nbconvert_exporter": "python",
   "pygments_lexer": "ipython3",
   "version": "3.6.2"
  },
  "toc": {
   "base_numbering": 1,
   "nav_menu": {},
   "number_sections": true,
   "sideBar": true,
   "skip_h1_title": false,
   "title_cell": "Table of Contents",
   "title_sidebar": "Contents",
   "toc_cell": false,
   "toc_position": {},
   "toc_section_display": true,
   "toc_window_display": false
  }
 },
 "nbformat": 4,
 "nbformat_minor": 2
}
