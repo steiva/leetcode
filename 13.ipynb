{
 "cells": [
  {
   "cell_type": "code",
   "execution_count": 33,
   "metadata": {},
   "outputs": [],
   "source": [
    "class Solution:\n",
    "    def romanToInt(self, s: str) -> int:\n",
    "        transferdict={'M':1000,'CM':900,'D':500,'CD':400,'C':100,'XC':90,\n",
    "                   'L':50,'XL':40,'X':10,'IX':9,'V':5,'IV':4,'I':1}\n",
    "        result=0\n",
    "        s_list=list(s)\n",
    "        i=0\n",
    "        while i<len(s_list):\n",
    "            if i<len(s_list)-1 and s_list[i]+s_list[i+1] in transferdict.keys():\n",
    "                result+=transferdict[s_list[i]+s_list[i+1]]\n",
    "                i=i+1\n",
    "            else:\n",
    "                result+=transferdict[s_list[i]]\n",
    "            i=i+1\n",
    "        return result"
   ]
  },
  {
   "cell_type": "code",
   "execution_count": 34,
   "metadata": {},
   "outputs": [
    {
     "name": "stdout",
     "output_type": "stream",
     "text": [
      "4\n",
      "3\n",
      "1\n",
      "58\n"
     ]
    }
   ],
   "source": [
    "a=Solution()\n",
    "print(a.romanToInt(\"IV\"))\n",
    "print(a.romanToInt(\"III\"))\n",
    "print(a.romanToInt(\"I\"))\n",
    "print(a.romanToInt(\"LVIII\"))\n"
   ]
  }
 ],
 "metadata": {
  "kernelspec": {
   "display_name": "Python 3",
   "language": "python",
   "name": "python3"
  },
  "language_info": {
   "codemirror_mode": {
    "name": "ipython",
    "version": 3
   },
   "file_extension": ".py",
   "mimetype": "text/x-python",
   "name": "python",
   "nbconvert_exporter": "python",
   "pygments_lexer": "ipython3",
   "version": "3.6.2"
  },
  "toc": {
   "base_numbering": 1,
   "nav_menu": {},
   "number_sections": true,
   "sideBar": true,
   "skip_h1_title": false,
   "title_cell": "Table of Contents",
   "title_sidebar": "Contents",
   "toc_cell": false,
   "toc_position": {},
   "toc_section_display": true,
   "toc_window_display": false
  }
 },
 "nbformat": 4,
 "nbformat_minor": 2
}
